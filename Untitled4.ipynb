{
 "cells": [
  {
   "cell_type": "markdown",
   "id": "37982470-641d-4c13-8fdf-7b8e69122f37",
   "metadata": {},
   "source": [
    "Q1, Create a vehicle class with an init method having instance variables as name_of_vehicle, max_speed\n",
    "and average_of_vehicle."
   ]
  },
  {
   "cell_type": "code",
   "execution_count": 1,
   "id": "d7320064-173a-40e8-8a47-8ab4f59eb075",
   "metadata": {},
   "outputs": [],
   "source": [
    "class Vehicle:\n",
    "    def __init__(self, name_of_vehicle, max_speed, average_of_vehicle):\n",
    "        self.name_of_vehicle = name_of_vehicle\n",
    "        self.max_speed = max_speed\n",
    "        self.average_of_vehicle = average_of_vehicle"
   ]
  },
  {
   "cell_type": "markdown",
   "id": "176a34ae-5812-4fa4-9636-20a65ef8575e",
   "metadata": {},
   "source": [
    "Q2. Create a child class car from the vehicle class created in Que 1, which will inherit the vehicle class.\n",
    "Create a method named seating_capacity which takes capacity as an argument and returns the name of\n",
    "the vehicle and its seating capacity."
   ]
  },
  {
   "cell_type": "code",
   "execution_count": 2,
   "id": "0b8f377b-c4cd-4a63-a953-f17b1a9a54cd",
   "metadata": {},
   "outputs": [],
   "source": [
    "class Car(Vehicle):\n",
    "    def __init__(self, name_of_vehicle, max_speed, average_of_vehicle):\n",
    "        super().__init__(name_of_vehicle, max_speed, average_of_vehicle)\n",
    "\n",
    "    def seating_capacity(self, capacity):\n",
    "        return f\"The {self.name_of_vehicle} has a seating capacity of {capacity} passengers.\""
   ]
  },
  {
   "cell_type": "markdown",
   "id": "adf5302d-11b6-46b2-a52f-3367fedd637e",
   "metadata": {},
   "source": [
    "Q3. What is multiple inheritance? Write a python code to demonstrate multiple inheritance."
   ]
  },
  {
   "cell_type": "markdown",
   "id": "3303609c-feed-41b2-b83d-cad1b3de3dc6",
   "metadata": {},
   "source": [
    "Multiple inheritance in Python refers to a feature where a class can inherit attributes and methods from more than one parent class. It allows a subclass to inherit from multiple superclasses."
   ]
  },
  {
   "cell_type": "code",
   "execution_count": 3,
   "id": "a026197e-330c-47ed-a7b7-fdbb54814949",
   "metadata": {},
   "outputs": [
    {
     "name": "stdout",
     "output_type": "stream",
     "text": [
      "Method A\n",
      "Method B\n",
      "Method C\n"
     ]
    }
   ],
   "source": [
    "class A:\n",
    "    def method_a(self):\n",
    "        print(\"Method A\")\n",
    "\n",
    "class B:\n",
    "    def method_b(self):\n",
    "        print(\"Method B\")\n",
    "\n",
    "class C(A, B):\n",
    "    def method_c(self):\n",
    "        print(\"Method C\")\n",
    "\n",
    "obj = C()\n",
    "obj.method_a()\n",
    "obj.method_b()\n",
    "obj.method_c()"
   ]
  },
  {
   "cell_type": "markdown",
   "id": "0f7b9aee-0173-418b-925f-e0b99b2bbe11",
   "metadata": {},
   "source": [
    "Q4. What are getter and setter in python? Create a class and create a getter and a setter method in this\n",
    "class."
   ]
  },
  {
   "cell_type": "markdown",
   "id": "0ace540b-ed1c-4e62-9336-72149b1e9ff9",
   "metadata": {},
   "source": [
    "Getter and setter methods are used to access and modify the private attributes of a class respectively. They help in controlling the access to the attributes and enforce encapsulation"
   ]
  },
  {
   "cell_type": "code",
   "execution_count": 4,
   "id": "2a33bbcf-83cc-4361-b767-c962eb224c9c",
   "metadata": {},
   "outputs": [
    {
     "name": "stdout",
     "output_type": "stream",
     "text": [
      "10\n"
     ]
    }
   ],
   "source": [
    "class MyClass:\n",
    "    def __init__(self):\n",
    "        self._my_attribute = None\n",
    "\n",
    "    def get_attribute(self):\n",
    "        return self._my_attribute\n",
    "\n",
    "    def set_attribute(self, value):\n",
    "        self._my_attribute = value\n",
    "\n",
    "# Usage\n",
    "obj = MyClass()\n",
    "obj.set_attribute(10)\n",
    "print(obj.get_attribute())  # Output: 10"
   ]
  },
  {
   "cell_type": "markdown",
   "id": "7f7de83e-3fe7-4d1e-84db-95e99b0a5a33",
   "metadata": {},
   "source": [
    "Q5.What is method overriding in python? Write a python code to demonstrate method overriding."
   ]
  },
  {
   "cell_type": "markdown",
   "id": "81beecb3-46e8-44e5-b2c8-c67f73d5cd26",
   "metadata": {},
   "source": [
    "Method overriding in Python allows a subclass to provide a specific implementation of a method that is already provided by its superclass. It's useful for changing the behavior of a method in the subclass without modifying the superclass."
   ]
  },
  {
   "cell_type": "code",
   "execution_count": 5,
   "id": "3465429f-5f0b-4b6c-ac0d-dbf9c5cc75b2",
   "metadata": {},
   "outputs": [
    {
     "name": "stdout",
     "output_type": "stream",
     "text": [
      "Child's show method\n"
     ]
    }
   ],
   "source": [
    "class Parent:\n",
    "    def show(self):\n",
    "        print(\"Parent's show method\")\n",
    "\n",
    "class Child(Parent):\n",
    "    def show(self):\n",
    "        print(\"Child's show method\")\n",
    "\n",
    "# Usage\n",
    "obj = Child()\n",
    "obj.show()"
   ]
  }
 ],
 "metadata": {
  "kernelspec": {
   "display_name": "Python 3 (ipykernel)",
   "language": "python",
   "name": "python3"
  },
  "language_info": {
   "codemirror_mode": {
    "name": "ipython",
    "version": 3
   },
   "file_extension": ".py",
   "mimetype": "text/x-python",
   "name": "python",
   "nbconvert_exporter": "python",
   "pygments_lexer": "ipython3",
   "version": "3.12.2"
  }
 },
 "nbformat": 4,
 "nbformat_minor": 5
}
